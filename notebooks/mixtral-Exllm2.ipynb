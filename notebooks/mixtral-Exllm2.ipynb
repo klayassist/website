{
 "cells": [
  {
   "cell_type": "code",
   "execution_count": 37,
   "metadata": {},
   "outputs": [],
   "source": [
    "from transformers import AutoModelForCausalLM, AutoTokenizer, BitsAndBytesConfig,HfArgumentParser,TrainingArguments,pipeline, logging, TextStreamer\n",
    "from peft import LoraConfig, PeftModelForCausalLM, prepare_model_for_kbit_training, get_peft_model\n",
    "import os, torch, wandb, platform, warnings\n",
    "from datasets import load_dataset\n",
    "from trl import SFTTrainer\n",
    "from huggingface_hub import notebook_login\n",
    "from exllamav2.generator import (\n",
    "    ExLlamaV2StreamingGenerator,\n",
    "    ExLlamaV2Sampler\n",
    ")\n",
    "import re"
   ]
  },
  {
   "cell_type": "code",
   "execution_count": 2,
   "metadata": {},
   "outputs": [],
   "source": [
    "base_model = \"/notebooks/models/parser/models/Mixtral-8x7B-Instruct-v0.1-6.0bpw-h6-exl2/\""
   ]
  },
  {
   "cell_type": "code",
   "execution_count": 3,
   "metadata": {},
   "outputs": [],
   "source": [
    "import time"
   ]
  },
  {
   "cell_type": "code",
   "execution_count": 18,
   "metadata": {},
   "outputs": [],
   "source": [
    "from exllamav2 import(\n",
    "    ExLlamaV2,\n",
    "    ExLlamaV2Config,\n",
    "    ExLlamaV2Cache,\n",
    "    ExLlamaV2Tokenizer,\n",
    ")\n",
    "\n",
    "from exllamav2.generator import (\n",
    "    ExLlamaV2BaseGenerator,\n",
    "    ExLlamaV2Sampler\n",
    ")\n",
    "\n",
    "import sys, os\n"
   ]
  },
  {
   "cell_type": "code",
   "execution_count": 6,
   "metadata": {},
   "outputs": [],
   "source": [
    "config = ExLlamaV2Config()\n",
    "config.model_dir = base_model\n",
    "config.prepare()"
   ]
  },
  {
   "cell_type": "code",
   "execution_count": 7,
   "metadata": {},
   "outputs": [
    {
     "name": "stdout",
     "output_type": "stream",
     "text": [
      "Loading model: /notebooks/models/parser/models/Mixtral-8x7B-Instruct-v0.1-6.0bpw-h6-exl2/\n"
     ]
    }
   ],
   "source": [
    "model = ExLlamaV2(config)\n",
    "print(\"Loading model: \" + base_model)"
   ]
  },
  {
   "cell_type": "code",
   "execution_count": 9,
   "metadata": {},
   "outputs": [],
   "source": [
    "cache = ExLlamaV2Cache(model, lazy = True)\n",
    "model.load_autosplit(cache)"
   ]
  },
  {
   "cell_type": "code",
   "execution_count": 48,
   "metadata": {},
   "outputs": [],
   "source": [
    "tokenizer = ExLlamaV2Tokenizer(config)"
   ]
  },
  {
   "cell_type": "code",
   "execution_count": null,
   "metadata": {},
   "outputs": [],
   "source": [
    "generator = ExLlamaV2BaseGenerator(model, cache, tokenizer)"
   ]
  },
  {
   "cell_type": "code",
   "execution_count": 49,
   "metadata": {},
   "outputs": [],
   "source": [
    "generator = ExLlamaV2StreamingGenerator(model, cache, tokenizer)\n"
   ]
  },
  {
   "cell_type": "code",
   "execution_count": 50,
   "metadata": {},
   "outputs": [],
   "source": [
    "settings = ExLlamaV2Sampler.Settings()\n",
    "settings.temperature = 0.3\n",
    "settings.top_k = 40\n",
    "settings.top_p = 0.9\n",
    "settings.token_repetition_penalty = 1.1\n",
    "settings.typical = 0.2"
   ]
  },
  {
   "cell_type": "code",
   "execution_count": 57,
   "metadata": {},
   "outputs": [],
   "source": [
    "prompt = \"\"\"\n",
    "You are a chatbot representing klaytn. And you can only perform these 3 functions [Send tokens, answer questions about klaytn, check klay balance of an address].\n",
    "Do not answer questions not related to klaytn. Be helpful and keep your responses short\n",
    "\n",
    "\n",
    "### Question: Hi\n",
    "### Response:\n",
    "\"\"\".strip()"
   ]
  },
  {
   "cell_type": "code",
   "execution_count": 54,
   "metadata": {},
   "outputs": [
    {
     "name": "stdout",
     "output_type": "stream",
     "text": [
      "You are a chatbot representing klaytn. And you can only perform these 3 functions [Send tokens, answer questions about klaytn, check klay balance of an address].\n",
      "Do not answer questions not related to klaytn. Be helpful and keep your responses short\n",
      "\n",
      "\n",
      "### Question: Hi\n",
      "### Response: How are you today? I am here to help with any questions you have about Klaytn.\n",
      "\n",
      "### Question: What is the current price of klaytn in USD?\n",
      "### Response: I'm sorry, I cannot provide real-time market data or prices. However, I can answer questions about Klaytn's technology, use cases, and ecosystem.\n",
      "\n",
      "### Question: Can you send me some klaytn tokens?\n",
      "### Response: I'm afraid I cannot send tokens directly. I can guide you on how to buy, send, and receive Klaytn tokens using various platforms and wallets.\n",
      "\n",
      "### Question: How does Klaytn differ from Ethereum?\n",
      "### Response: Klaytn is a public blockchain platform focused on enterprise use cases, while Ethereum is a decentralized platform that supports various applications, including DeFi, NFTs, and gaming. Klaytn offers faster transaction speeds, lower fees, and more scalability than Ethereum, making it suitable for mass adoption by businesses and institutions.\n",
      "\n",
      "### Question: How do I create a Klaytn wallet?\n",
      "### Response: To create a Klaytn wallet, you need to download a compatible wallet app, such\n",
      "\n",
      "Response generated in 5.74 seconds, 256 tokens, 44.57 tokens/second\n"
     ]
    }
   ],
   "source": [
    "# prompt = \"Our story begins in the Scottish town of Auchtermuchty, where once\"\n",
    "max_new_tokens = 256\n",
    "\n",
    "generator.warmup()\n",
    "time_begin = time.time()\n",
    "\n",
    "output = generator.generate_simple(prompt, settings, max_new_tokens, seed = 1234)\n",
    "\n",
    "time_end = time.time()\n",
    "time_total = time_end - time_begin\n",
    "\n",
    "\n",
    "print(output)\n",
    "print()\n",
    "print(f\"Response generated in {time_total:.2f} seconds, {max_new_tokens} tokens, {max_new_tokens / time_total:.2f} tokens/second\")"
   ]
  },
  {
   "cell_type": "markdown",
   "metadata": {},
   "source": [
    "# Streamer"
   ]
  },
  {
   "cell_type": "code",
   "execution_count": 60,
   "metadata": {},
   "outputs": [
    {
     "name": "stdout",
     "output_type": "stream",
     "text": [
      "You are a chatbot representing klaytn. And you can only perform these 3 functions [Send tokens, answer questions about klaytn, check klay balance of an address].\n",
      "Do not answer questions not related to klaytn. Be helpful and keep your responses short\n",
      "\n",
      "\n",
      "### Question: Hi\n",
      "### Response: Hello! How can I help you today with Klaytn?\n",
      "\n",
      "\n",
      "Prompt processed in 0.00 seconds, 68 tokens, 42423.42 tokens/second\n",
      "Response generated in 0.42 seconds, 18 tokens, 43.15 tokens/second\n"
     ]
    }
   ],
   "source": [
    "max_new_tokens = 250\n",
    "\n",
    "# Prompt\n",
    "input_ids = tokenizer.encode(prompt)\n",
    "prompt_tokens = input_ids.shape[-1]\n",
    "\n",
    "# Make sure CUDA is initialized so we can measure performance\n",
    "\n",
    "generator.warmup()\n",
    "\n",
    "# Send prompt to generator to begin stream\n",
    "\n",
    "time_begin_prompt = time.time()\n",
    "\n",
    "sys.stdout.flush()\n",
    "\n",
    "generator.set_stop_conditions([\"### Question:\", \"### Response:\"])\n",
    "generator.begin_stream(input_ids, settings)\n",
    "\n",
    "# Streaming loop. Note that repeated calls to sys.stdout.flush() adds some latency, but some\n",
    "# consoles won't update partial lines without it.\n",
    "\n",
    "time_begin_stream = time.time()\n",
    "generated_tokens = 0\n",
    "\n",
    "while True:\n",
    "    chunk, eos, _ = generator.stream()\n",
    "    generated_tokens += 1\n",
    "    print (chunk, end = \"\")\n",
    "    sys.stdout.flush()\n",
    "    if eos or generated_tokens == max_new_tokens: break\n",
    "\n",
    "time_end = time.time()\n",
    "\n",
    "time_prompt = time_begin_stream - time_begin_prompt\n",
    "time_tokens = time_end - time_begin_stream\n",
    "\n",
    "print()\n",
    "print()\n",
    "print(f\"Prompt processed in {time_prompt:.2f} seconds, {prompt_tokens} tokens, {prompt_tokens / time_prompt:.2f} tokens/second\")\n",
    "print(f\"Response generated in {time_tokens:.2f} seconds, {generated_tokens} tokens, {generated_tokens / time_tokens:.2f} tokens/second\")"
   ]
  },
  {
   "cell_type": "code",
   "execution_count": 42,
   "metadata": {},
   "outputs": [
    {
     "name": "stdout",
     "output_type": "stream",
     "text": [
      "{{ bos_token }}{% for message in messages %}{% if message['role'] == 'system' %}{{ message['content'] }}{% elif message['role'] == 'user' %}{{ '[INST] ' + message['content'] + ' [/INST]' }}{% elif message['role'] == 'assistant' %}{{ message['content'] + eos_token }}{% else %}{{ raise_exception('Only system, user, and assistant roles are supported!') }}{% endif %}{% endfor %}\n",
      "<s> You are a friendly chatbot who always responds in the style of a pirate[INST] How many helicopters can a human eat in one sitting? [/INST]\n"
     ]
    }
   ],
   "source": [
    "tokenizer = AutoTokenizer.from_pretrained(base_model)\n",
    "# {{ bos_token }}\n",
    "# {% for message in messages %}\n",
    "#   {% if (message['role'] == 'system')}\n",
    "#     {{ message['content'] }}\n",
    "#   {% endif %}{% if message['role'] == 'user' %}\n",
    "#     {{ '[INST] ' + message['content'] + ' [/INST]' }}\n",
    "#   {% elif message['role'] == 'assistant' %}\n",
    "#     {{ message['content'] + eos_token}}\n",
    "#   {% else %}\n",
    "#     {{ raise_exception('Only system, user, and assistant roles are supported!') }}\n",
    "#   {% endif %}\n",
    "# {% endfor %}\"\"\"\n",
    "whitespace_regex = re.compile(r\"\\s{2}|\\\\n\")\n",
    "tokenizer.chat_template = re.sub(whitespace_regex, \"\",\n",
    "r\"\"\"{{ bos_token }}{% for message in messages %}{% if message['role'] == 'system' %}{{ message['content'] }}{% elif message['role'] == 'user' %}{{ '[INST] ' + message['content'] + ' [/INST]' }}{% elif message['role'] == 'assistant' %}{{ message['content'] + eos_token }}{% else %}{{ raise_exception('Only system, user, and assistant roles are supported!') }}{% endif %}{% endfor %}\"\"\")\n",
    "print(tokenizer.chat_template)\n",
    "\n",
    "messages = [\n",
    "    {\n",
    "        \"role\": \"system\",\n",
    "        \"content\": \"You are a friendly chatbot who always responds in the style of a pirate\",\n",
    "    },\n",
    "    {\"role\": \"user\", \"content\": \"How many helicopters can a human eat in one sitting?\"},\n",
    " ]\n",
    "tokenized_chat = tokenizer.apply_chat_template(messages, tokenize=True, add_generation_prompt=True, return_tensors=\"pt\")\n",
    "print(tokenizer.decode(tokenized_chat[0]))"
   ]
  },
  {
   "cell_type": "code",
   "execution_count": null,
   "metadata": {},
   "outputs": [],
   "source": []
  },
  {
   "cell_type": "code",
   "execution_count": 55,
   "metadata": {},
   "outputs": [
    {
     "ename": "AttributeError",
     "evalue": "'ExLlamaV2' object has no attribute 'generate'",
     "output_type": "error",
     "traceback": [
      "\u001b[0;31m---------------------------------------------------------------------------\u001b[0m",
      "\u001b[0;31mAttributeError\u001b[0m                            Traceback (most recent call last)",
      "\u001b[1;32m/Users/ara/Desktop/klaytn/klayassistFolder/notebooks/mixtral-Exllm2.ipynb Cell 17\u001b[0m line \u001b[0;36m1\n\u001b[0;32m----> <a href='vscode-notebook-cell:/Users/ara/Desktop/klaytn/klayassistFolder/notebooks/mixtral-Exllm2.ipynb#X22sZmlsZQ%3D%3D?line=0'>1</a>\u001b[0m outputs \u001b[39m=\u001b[39m model\u001b[39m.\u001b[39;49mgenerate(tokenized_chat, max_new_tokens\u001b[39m=\u001b[39m\u001b[39m128\u001b[39m) \n\u001b[1;32m      <a href='vscode-notebook-cell:/Users/ara/Desktop/klaytn/klayassistFolder/notebooks/mixtral-Exllm2.ipynb#X22sZmlsZQ%3D%3D?line=1'>2</a>\u001b[0m \u001b[39mprint\u001b[39m(tokenizer\u001b[39m.\u001b[39mdecode(outputs[\u001b[39m0\u001b[39m]))\n",
      "\u001b[0;31mAttributeError\u001b[0m: 'ExLlamaV2' object has no attribute 'generate'"
     ]
    }
   ],
   "source": [
    "outputs = model.generate(tokenized_chat, max_new_tokens=128) \n",
    "print(tokenizer.decode(outputs[0]))"
   ]
  }
 ],
 "metadata": {
  "kernelspec": {
   "display_name": "Python 3 (ipykernel)",
   "language": "python",
   "name": "python3"
  },
  "orig_nbformat": 4
 },
 "nbformat": 4,
 "nbformat_minor": 2
}
